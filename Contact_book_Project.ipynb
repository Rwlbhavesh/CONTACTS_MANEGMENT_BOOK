{
 "cells": [
  {
   "cell_type": "code",
   "execution_count": 1,
   "id": "23270624-b208-442b-939c-1ef8ebd61b32",
   "metadata": {},
   "outputs": [],
   "source": [
    "# problme = crearte a contact manegment book app and all features available in this app."
   ]
  },
  {
   "cell_type": "code",
   "execution_count": 5,
   "id": "4ab933f8-1ef7-4c80-bccf-8cb4da94c80b",
   "metadata": {},
   "outputs": [
    {
     "name": "stdout",
     "output_type": "stream",
     "text": [
      "||CONTACTS||\n",
      "1. create new contact:- \n",
      "2. update contact:- \n",
      "3. search:- \n",
      "4. delete:- \n",
      "5. exit:- \n",
      "6. show total contacts:- \n"
     ]
    },
    {
     "name": "stdin",
     "output_type": "stream",
     "text": [
      "enter your choice:- 1\n",
      "enter your name:-  5\n",
      "enter your mobile number:-  5\n"
     ]
    },
    {
     "name": "stdout",
     "output_type": "stream",
     "text": [
      "this contact name5 is add successufully.\n",
      "||CONTACTS||\n",
      "1. create new contact:- \n",
      "2. update contact:- \n",
      "3. search:- \n",
      "4. delete:- \n",
      "5. exit:- \n",
      "6. show total contacts:- \n"
     ]
    },
    {
     "name": "stdin",
     "output_type": "stream",
     "text": [
      "enter your choice:- 5\n"
     ]
    },
    {
     "name": "stdout",
     "output_type": "stream",
     "text": [
      "|| Good byy....closing the app ||\n"
     ]
    }
   ],
   "source": [
    "contacts = {}\n",
    "\n",
    "# create a first emty dic. for store all your contacts\n",
    "# after using while loop for repeat your code multi time\n",
    "\n",
    "while True:\n",
    "    print (\"||CONTACTS||\")\n",
    "    print (\"1. create new contact:- \")\n",
    "    print (\"2. update contact:- \")\n",
    "    print (\"3. search:- \")\n",
    "    print (\"4. delete:- \")\n",
    "    print (\"5. exit:- \")\n",
    "    print (\"6. show total contacts:- \")\n",
    "\n",
    "    choice = input(\"enter your choice:-\")\n",
    "\n",
    "    if choice == \"1\":\n",
    "        name = input('enter your name:- ')\n",
    "        if name in contacts:\n",
    "            print (f'contact name {name} already exists.')\n",
    "        else:\n",
    "            number = int(input(\"enter your mobile number:- \"))\n",
    "            contacts[name] = {'number':number}\n",
    "            print(f'this contact name{name} is add successufully.')\n",
    "\n",
    "    elif choice == \"2\":\n",
    "        name = input(\"update contact name:- \")\n",
    "        if name in contacts:\n",
    "            number = int(input(\"enter your mobile number:- \"))\n",
    "            contacts[name] = {'number':number}\n",
    "        else:\n",
    "            print (\"contact not found?\")\n",
    "\n",
    "    elif choice == '4':\n",
    "        name = input(\"enter contact name to delete:-\")\n",
    "        if name in contacts:\n",
    "            del contacts[name]\n",
    "            print (f\"your contacts name {name} is deleted successfully.\")\n",
    "        else:\n",
    "            print (\"contact not found?\")\n",
    "    elif choice == '3':\n",
    "        search_name = input(\"enter name for search:- \")\n",
    "        found = False\n",
    "        for name, contact in contacts.items():\n",
    "            if search_name.lower() in name.lower():\n",
    "                print (f\"found = name:{name},number:{number}\")\n",
    "                \n",
    "                found = True\n",
    "        if not found:\n",
    "            print (\"no contact found this name ?\")\n",
    "\n",
    "    elif choice == '6':\n",
    "        print (f\"this your contacts book all contacts\\n{contacts}\")\n",
    "\n",
    "    elif choice == '5':\n",
    "        print (\"|| Good byy....closing the app ||\")\n",
    "        break\n",
    "        \n",
    "            \n",
    "            \n",
    "            \n",
    "         \n",
    "            "
   ]
  },
  {
   "cell_type": "code",
   "execution_count": null,
   "id": "08dc49bb-b9f0-4cd1-8a1c-ecf3dd2de6c2",
   "metadata": {},
   "outputs": [],
   "source": []
  },
  {
   "cell_type": "code",
   "execution_count": null,
   "id": "3ee40129-2f3c-45b2-af37-138eeec25cd2",
   "metadata": {},
   "outputs": [],
   "source": []
  }
 ],
 "metadata": {
  "kernelspec": {
   "display_name": "Python 3 (ipykernel)",
   "language": "python",
   "name": "python3"
  },
  "language_info": {
   "codemirror_mode": {
    "name": "ipython",
    "version": 3
   },
   "file_extension": ".py",
   "mimetype": "text/x-python",
   "name": "python",
   "nbconvert_exporter": "python",
   "pygments_lexer": "ipython3",
   "version": "3.12.7"
  }
 },
 "nbformat": 4,
 "nbformat_minor": 5
}
