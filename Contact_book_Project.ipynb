{
 "cells": [
  {
   "cell_type": "code",
   "execution_count": 1,
   "id": "23270624-b208-442b-939c-1ef8ebd61b32",
   "metadata": {},
   "outputs": [],
   "source": [
    "# problme = crearte a contact manegment book app and all features available in this app."
   ]
  },
  {
   "cell_type": "code",
   "execution_count": 5,
   "id": "5c855f5c-2ed8-46c9-837c-43b4eb587088",
   "metadata": {},
   "outputs": [
    {
     "name": "stdout",
     "output_type": "stream",
     "text": [
      "1. add new contact:- \n",
      "2. update contact:- \n",
      "3. search:- \n",
      "4. delete:- \n",
      "5. exit:- \n"
     ]
    }
   ],
   "source": [
    "contacts = {}"
   ]
  },
  {
   "cell_type": "code",
   "execution_count": null,
   "id": "4ab933f8-1ef7-4c80-bccf-8cb4da94c80b",
   "metadata": {},
   "outputs": [
    {
     "name": "stdout",
     "output_type": "stream",
     "text": [
      "||CONTACTS||\n",
      "1. create new contact:- \n",
      "2. update contact:- \n",
      "3. search:- \n",
      "4. delete:- \n",
      "5. exit:- \n"
     ]
    },
    {
     "name": "stdin",
     "output_type": "stream",
     "text": [
      "enter your choice:- 3\n",
      "enter name for search:-  bhavesh rawal\n"
     ]
    },
    {
     "name": "stdout",
     "output_type": "stream",
     "text": [
      "found = name:bhavesh rawal,number:6377598804\n",
      "||CONTACTS||\n",
      "1. create new contact:- \n",
      "2. update contact:- \n",
      "3. search:- \n",
      "4. delete:- \n",
      "5. exit:- \n"
     ]
    },
    {
     "name": "stdin",
     "output_type": "stream",
     "text": [
      "enter your choice:- 4\n",
      "enter contact name to delete:- bhavesh rawal\n"
     ]
    },
    {
     "name": "stdout",
     "output_type": "stream",
     "text": [
      "your contacts name bhavesh rawal is deleted successfully.\n",
      "||CONTACTS||\n",
      "1. create new contact:- \n",
      "2. update contact:- \n",
      "3. search:- \n",
      "4. delete:- \n",
      "5. exit:- \n"
     ]
    },
    {
     "name": "stdin",
     "output_type": "stream",
     "text": [
      "enter your choice:- 3\n",
      "enter name for search:-  bhavesh rawal\n"
     ]
    },
    {
     "name": "stdout",
     "output_type": "stream",
     "text": [
      "no contact found this name ?\n",
      "||CONTACTS||\n",
      "1. create new contact:- \n",
      "2. update contact:- \n",
      "3. search:- \n",
      "4. delete:- \n",
      "5. exit:- \n"
     ]
    }
   ],
   "source": [
    "while True:\n",
    "    print (\"||CONTACTS||\")\n",
    "    print (\"1. create new contact:- \")\n",
    "    print (\"2. update contact:- \")\n",
    "    print (\"3. search:- \")\n",
    "    print (\"4. delete:- \")\n",
    "    print (\"5. exit:- \")\n",
    "    print (\"6. show total contacts:- \")\n",
    "\n",
    "    choice = input(\"enter your choice:-\")\n",
    "\n",
    "    if choice == \"1\":\n",
    "        name = input('enter your name:- ')\n",
    "        if name in contacts:\n",
    "            print (f'contact name {name} already exists.')\n",
    "        else:\n",
    "            number = int(input(\"enter your mobile number:- \"))\n",
    "            contacts[name] = {'number':number}\n",
    "            print(f'this contact name{name} is add successufully.')\n",
    "\n",
    "    elif choice == \"2\":\n",
    "        name = input(\"update contact name:- \")\n",
    "        if name in contacts:\n",
    "            number = int(input(\"enter your mobile number:- \"))\n",
    "            contacts[name] = {'number':number}\n",
    "        else:\n",
    "            print (\"contact not found?\")\n",
    "\n",
    "    elif choice == '4':\n",
    "        name = input(\"enter contact name to delete:-\")\n",
    "        if name in contacts:\n",
    "            del contacts[name]\n",
    "            print (f\"your contacts name {name} is deleted successfully.\")\n",
    "        else:\n",
    "            print (\"contact not found?\")\n",
    "    elif choice == '3':\n",
    "        search_name = input(\"enter name for search:- \")\n",
    "        found = False\n",
    "        for name, contact in contacts.items():\n",
    "            if search_name.lower() in name.lower():\n",
    "                print (f\"found = name:{name},number:{number}\")\n",
    "                \n",
    "                found = True\n",
    "        if not found:\n",
    "            print (\"no contact found this name ?\")\n",
    "\n",
    "    elif choice == '6':\n",
    "        print (f\"this your contacts book all contacts\\n{contacts}\")\n",
    "\n",
    "    elif choice == '5':\n",
    "        print (\"|| Good byy....closing the app ||\")\n",
    "        break\n",
    "        \n",
    "            \n",
    "            \n",
    "            \n",
    "         \n",
    "            "
   ]
  },
  {
   "cell_type": "code",
   "execution_count": null,
   "id": "5591b5b4-c28e-4e6e-8fb6-c089090fb628",
   "metadata": {},
   "outputs": [],
   "source": []
  }
 ],
 "metadata": {
  "kernelspec": {
   "display_name": "Python 3 (ipykernel)",
   "language": "python",
   "name": "python3"
  },
  "language_info": {
   "codemirror_mode": {
    "name": "ipython",
    "version": 3
   },
   "file_extension": ".py",
   "mimetype": "text/x-python",
   "name": "python",
   "nbconvert_exporter": "python",
   "pygments_lexer": "ipython3",
   "version": "3.12.7"
  }
 },
 "nbformat": 4,
 "nbformat_minor": 5
}
